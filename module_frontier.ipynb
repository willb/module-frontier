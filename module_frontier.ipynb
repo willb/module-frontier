{
 "cells": [
  {
   "cell_type": "markdown",
   "metadata": {},
   "source": [
    "_Sound_ program analyses present conservative overapproximations of program behavior.  Consider a _may-alias analysis_, which determines if two reference variables may refer to the same location in memory.  Precise may-alias analysis is undecidable, but certain kinds of imprecision are acceptable.  Often we're interested in sound analyses to support verification or semantics-preserving program transformations, so false positives are acceptable but false negatives are not.  Put another way, the worst that can come of spuriously identifying a pair of variables as potentially-aliasing is that we'd miss an opportunity to optimize our program; the worst that can come of not identifying a pair of potentially-aliasing variables as such is a program tranformation that introduces a behavior change.\n",
    "\n",
    "By contrast, _unsound_ analyses are imprecise but not conservative:  both false positives and false negatives are possible.  These analyses are still useful for program understanding (e.g., in linters or static bug detectors) even if they are not sufficient to support program transformations.  In this post (which is also available as an interactive notebook), we'll develop an unsound analysis for Python.  The goal of the analysis we'll develop is to identify which modules a function depends on; this post will show one way to build up such a technique.  \n",
    "\n",
    "\n",
    "# Background\n",
    "\n",
    "Consider the following problem:  you'd like to enable users to automatically extract a function from a Jupyter notebook and publish it as a service.  Actually serializing a closure from a function in a given environment is not difficult, given the [`cloudpickle`](https://github.com/cloudpipe/cloudpickle) module.  But merely constructing a serialized closure isn't enough, since in general this function may require other modules to be available to run in another context.  \n",
    "\n",
    "Therefore, we need some way to identify the modules required by a function (and, ideally, the packages that provide these modules).  Since engineering time is limited, it's probably better to have an optimistic-and-imperfect estimate and allow users to override it (by supplying additional dependencies when they publish a function) than it is to have a sound and conservative module list.\n",
    "\n",
    "The [`modulefinder`](https://docs.python.org/3.6/library/modulefinder.html) module in the Python standard library might initially seem like an attractive option, but it is unsuitable because it operates at the level of scripts.  In order to use `modulefinder` on a single function from a notebook, we'd either have an imprecise module list (due to running the whole notebook) or we'd need to essentially duplicate a lot of its effort in order to [slice backwards](https://en.wikipedia.org/wiki/Program_slicing) from the function invocation so we could extract a suitably pruned script.\n",
    "\n",
    "Fortunately, you can interrogate nearly any aspect of any object in a Python program, and functions are no exception.  If we could inspect the captured variables in a closure, we could identify the ones that are functions and figure out which modules they were declared in.  That would look something like this:"
   ]
  },
  {
   "cell_type": "code",
   "execution_count": 1,
   "metadata": {},
   "outputs": [],
   "source": [
    "import inspect\n",
    "\n",
    "def module_frontier(f):\n",
    "  worklist = [f]\n",
    "  seen = set()\n",
    "  mods = set()\n",
    "  for fn in worklist:\n",
    "    cvs = inspect.getclosurevars(fn)\n",
    "    gvars = cvs.globals\n",
    "    for k, v in gvars.items():\n",
    "      if inspect.ismodule(v):\n",
    "        mods.add(v.__name__)\n",
    "      elif inspect.isfunction(v) and id(v) not in seen:\n",
    "        seen.add(id(v))\n",
    "        mods.add(v.__module__)\n",
    "        worklist.append(v)\n",
    "      elif hasattr(v, \"__module__\"):\n",
    "        mods.add(v.__module__)\n",
    "  return list(mods)"
   ]
  },
  {
   "cell_type": "markdown",
   "metadata": {},
   "source": [
    "The [`inspect`](https://docs.python.org/3/library/inspect.html#inspect.Signature.bind) module provides a friendly interface to inspecting object metadata.  In the above function, we're constructing a worklist of all of the captured variables in a given function's closure.  We're then constructing a set of all of the modules directly or transitively referred to by those captured variables, whether these are modules referred to directly, modules declaring functions referred to by captured variables, or modules declaring other values referred to by captured variables (e.g., native functions).  Note that we add any functions we find to the worklist (although we don't handle `eval` or other techniques), so we'll capture at least some of the transitive call graph in this case.\n",
    "\n",
    "This approach seems to work pretty sensibly on simple examples:"
   ]
  },
  {
   "cell_type": "code",
   "execution_count": 2,
   "metadata": {
    "collapsed": true
   },
   "outputs": [],
   "source": [
    "import numpy as np\n",
    "from numpy import dot\n",
    "\n",
    "def f(a, b):\n",
    "    return np.dot(a, b)\n",
    "\n",
    "def g(a, b):\n",
    "    return dot(a, b)\n",
    "\n",
    "def h(a, b):\n",
    "    return f(a, b)"
   ]
  },
  {
   "cell_type": "code",
   "execution_count": 3,
   "metadata": {},
   "outputs": [
    {
     "data": {
      "text/plain": [
       "{'f': ['numpy', 'numpy.core.multiarray'],\n",
       " 'g': ['numpy.core.multiarray'],\n",
       " 'h': ['__main__', 'numpy', 'numpy.core.multiarray']}"
      ]
     },
     "execution_count": 3,
     "metadata": {},
     "output_type": "execute_result"
    }
   ],
   "source": [
    "{k.__name__ : module_frontier(k) for k in [f,g,h]}"
   ]
  },
  {
   "cell_type": "markdown",
   "metadata": {},
   "source": [
    "It also works on itself, which is a relief:"
   ]
  },
  {
   "cell_type": "code",
   "execution_count": 4,
   "metadata": {},
   "outputs": [
    {
     "data": {
      "text/plain": [
       "['inspect']"
      ]
     },
     "execution_count": 4,
     "metadata": {},
     "output_type": "execute_result"
    }
   ],
   "source": [
    "module_frontier(module_frontier)"
   ]
  },
  {
   "cell_type": "markdown",
   "metadata": {},
   "source": [
    "# Problem cases\n",
    "\n",
    "While these initial experiments are promising, we shouldn't expect that a simple approach will cover everything we might want to do.  Let's look at a (slightly) more involved example to see if it breaks down.\n",
    "\n",
    "We'll use the k-means clustering implementation from scikit-learn to optimize some cluster centers in a model object.  We'll then capture that model object in a closure and analyze it to see what we might need to import to run it elsewhere."
   ]
  },
  {
   "cell_type": "code",
   "execution_count": 5,
   "metadata": {},
   "outputs": [],
   "source": [
    "from sklearn.cluster import KMeans\n",
    "import numpy as np\n",
    "\n",
    "data = np.random.rand(1000, 2)\n",
    "\n",
    "model = KMeans(random_state=0).fit(data)\n",
    "\n",
    "def km_predict_one(sample):\n",
    "    sample = np.array(sample).reshape(1,-1)\n",
    "    return model.predict(sample)[0]"
   ]
  },
  {
   "cell_type": "code",
   "execution_count": 6,
   "metadata": {},
   "outputs": [
    {
     "data": {
      "text/plain": [
       "0"
      ]
     },
     "execution_count": 6,
     "metadata": {},
     "output_type": "execute_result"
    }
   ],
   "source": [
    "km_predict_one([0.5, 0.5])"
   ]
  },
  {
   "cell_type": "code",
   "execution_count": 7,
   "metadata": {},
   "outputs": [
    {
     "data": {
      "text/plain": [
       "['numpy', 'sklearn.cluster.k_means_']"
      ]
     },
     "execution_count": 7,
     "metadata": {},
     "output_type": "execute_result"
    }
   ],
   "source": [
    "module_frontier(km_predict_one)"
   ]
  },
  {
   "cell_type": "markdown",
   "metadata": {},
   "source": [
    "## List comprehensions\n",
    "\n",
    "So far, so good.  Let's say we want to publish this simple model as a lighter-weight service (without a scikit-learn dependency).  We can get that by reimplementing the `predict` method from the k-means model:"
   ]
  },
  {
   "cell_type": "code",
   "execution_count": 8,
   "metadata": {
    "collapsed": true
   },
   "outputs": [],
   "source": [
    "centers = model.cluster_centers_\n",
    "from numpy.linalg import norm\n",
    "\n",
    "def km_predict_two(sample):\n",
    "    _, idx = min([(norm(sample - center), idx) for idx, center in enumerate(centers)])\n",
    "    return idx\n"
   ]
  },
  {
   "cell_type": "code",
   "execution_count": 9,
   "metadata": {},
   "outputs": [
    {
     "data": {
      "text/plain": [
       "0"
      ]
     },
     "execution_count": 9,
     "metadata": {},
     "output_type": "execute_result"
    }
   ],
   "source": [
    "km_predict_two([0.5, 0.5])"
   ]
  },
  {
   "cell_type": "markdown",
   "metadata": {},
   "source": [
    "What do we get if we analyze the second method?"
   ]
  },
  {
   "cell_type": "code",
   "execution_count": 10,
   "metadata": {},
   "outputs": [
    {
     "data": {
      "text/plain": [
       "[]"
      ]
     },
     "execution_count": 10,
     "metadata": {},
     "output_type": "execute_result"
    }
   ],
   "source": [
    "module_frontier(km_predict_two)"
   ]
  },
  {
   "cell_type": "markdown",
   "metadata": {},
   "source": [
    "_This is a problem!_  We'd expect that `norm` would be a captured variable in the body of `km_predict_two` (and thus that `numpy.linalg` would be listed in its module frontier), but that isn't the case.  We can inspect the closure variables:"
   ]
  },
  {
   "cell_type": "code",
   "execution_count": 11,
   "metadata": {},
   "outputs": [
    {
     "data": {
      "text/plain": [
       "ClosureVars(nonlocals={}, globals={'centers': array([[ 0.48164613,  0.76963627],\n",
       "       [ 0.19929899,  0.5320582 ],\n",
       "       [ 0.7851443 ,  0.49048373],\n",
       "       [ 0.1589274 ,  0.87394225],\n",
       "       [ 0.14252367,  0.18109538],\n",
       "       [ 0.83165127,  0.83706918],\n",
       "       [ 0.82584485,  0.16641708],\n",
       "       [ 0.47398427,  0.175393  ]])}, builtins={'min': <built-in function min>, 'enumerate': <class 'enumerate'>}, unbound=set())"
      ]
     },
     "execution_count": 11,
     "metadata": {},
     "output_type": "execute_result"
    }
   ],
   "source": [
    "inspect.getclosurevars(km_predict_two)"
   ]
  },
  {
   "cell_type": "markdown",
   "metadata": {},
   "source": [
    "We can see the cluster centers as well as the `min` function and the `enumerate` type.  But `norm` isn't in the list.  Let's dive deeper.  We can use the [`dis`](https://docs.python.org/3/library/dis.html) module (and some functionality that was introduced in Python 3.4) to inspect the Python bytecode for a given function:"
   ]
  },
  {
   "cell_type": "code",
   "execution_count": 12,
   "metadata": {},
   "outputs": [
    {
     "name": "stdout",
     "output_type": "stream",
     "text": [
      "0: LOAD_GLOBAL(min)\n",
      "2: LOAD_CLOSURE(sample)\n",
      "4: BUILD_TUPLE()\n",
      "6: LOAD_CONST(<code object <listcomp> at 0x10dcecd20, file \"<ipython-input-8-5a350184a257>\", line 5>)\n",
      "8: LOAD_CONST('km_predict_two.<locals>.<listcomp>')\n",
      "10: MAKE_FUNCTION()\n",
      "12: LOAD_GLOBAL(enumerate)\n",
      "14: LOAD_GLOBAL(centers)\n",
      "16: CALL_FUNCTION()\n",
      "18: GET_ITER()\n",
      "20: CALL_FUNCTION()\n",
      "22: CALL_FUNCTION()\n",
      "24: UNPACK_SEQUENCE()\n",
      "26: STORE_FAST(_)\n",
      "28: STORE_FAST(idx)\n",
      "30: LOAD_FAST(idx)\n",
      "32: RETURN_VALUE()\n"
     ]
    }
   ],
   "source": [
    "from dis import Bytecode\n",
    "for inst in Bytecode(km_predict_two):\n",
    "    print(\"%d: %s(%s)\" % (inst.offset, inst.opname, inst.argrepr))"
   ]
  },
  {
   "cell_type": "markdown",
   "metadata": {},
   "source": [
    "Ah ha!  The body of our list comprehension, which contains the call to `norm`, is a separate code object that has been stored in a constant.  Let's look at the constants for our function:"
   ]
  },
  {
   "cell_type": "code",
   "execution_count": 13,
   "metadata": {
    "scrolled": true
   },
   "outputs": [
    {
     "data": {
      "text/plain": [
       "(None,\n",
       " <code object <listcomp> at 0x10dcecd20, file \"<ipython-input-8-5a350184a257>\", line 5>,\n",
       " 'km_predict_two.<locals>.<listcomp>')"
      ]
     },
     "execution_count": 13,
     "metadata": {},
     "output_type": "execute_result"
    }
   ],
   "source": [
    "km_predict_two.__code__.co_consts"
   ]
  },
  {
   "cell_type": "markdown",
   "metadata": {},
   "source": [
    "We can see the code object in the constant list and use `dis` to disassemble it as well:"
   ]
  },
  {
   "cell_type": "code",
   "execution_count": 14,
   "metadata": {},
   "outputs": [
    {
     "name": "stdout",
     "output_type": "stream",
     "text": [
      "0: BUILD_LIST()\n",
      "2: LOAD_FAST(.0)\n",
      "4: FOR_ITER(to 30)\n",
      "6: UNPACK_SEQUENCE()\n",
      "8: STORE_FAST(idx)\n",
      "10: STORE_FAST(center)\n",
      "12: LOAD_GLOBAL(norm)\n",
      "14: LOAD_DEREF(sample)\n",
      "16: LOAD_FAST(center)\n",
      "18: BINARY_SUBTRACT()\n",
      "20: CALL_FUNCTION()\n",
      "22: LOAD_FAST(idx)\n",
      "24: BUILD_TUPLE()\n",
      "26: LIST_APPEND()\n",
      "28: JUMP_ABSOLUTE()\n",
      "30: RETURN_VALUE()\n"
     ]
    }
   ],
   "source": [
    "for inst in Bytecode(km_predict_two.__code__.co_consts[1]):\n",
    "    print(\"%d: %s(%s)\" % (inst.offset, inst.opname, inst.argrepr))"
   ]
  },
  {
   "cell_type": "markdown",
   "metadata": {},
   "source": [
    "Once we've done so, we can see that the list comprehension has loaded `norm` from a global, which we can then resolve and inspect:"
   ]
  },
  {
   "cell_type": "code",
   "execution_count": 15,
   "metadata": {},
   "outputs": [
    {
     "data": {
      "text/plain": [
       "<function numpy.linalg.linalg.norm>"
      ]
     },
     "execution_count": 15,
     "metadata": {},
     "output_type": "execute_result"
    }
   ],
   "source": [
    "km_predict_two.__globals__[\"norm\"]"
   ]
  },
  {
   "cell_type": "code",
   "execution_count": 16,
   "metadata": {},
   "outputs": [
    {
     "data": {
      "text/plain": [
       "'numpy.linalg.linalg'"
      ]
     },
     "execution_count": 16,
     "metadata": {},
     "output_type": "execute_result"
    }
   ],
   "source": [
    "_.__module__"
   ]
  },
  {
   "cell_type": "markdown",
   "metadata": {},
   "source": [
    "## Nested functions and lambda expressions\n",
    "\n",
    "We can see a similar problem if we look at a function with local definitions (note that there is no need for the nesting in this example other than to expose a limitation of our technique):"
   ]
  },
  {
   "cell_type": "code",
   "execution_count": 17,
   "metadata": {},
   "outputs": [
    {
     "data": {
      "text/plain": [
       "0"
      ]
     },
     "execution_count": 17,
     "metadata": {},
     "output_type": "execute_result"
    }
   ],
   "source": [
    "import sys\n",
    "\n",
    "def km_predict_three(sample):\n",
    "    # unnecessary nested function\n",
    "    def find_best(sample):\n",
    "        (n, i) = (sys.float_info.max, -1)\n",
    "        for idx, center in enumerate(centers):\n",
    "            (n, i) = min((n, i), (norm(sample - center), idx))\n",
    "        return i\n",
    "    return find_best(sample)\n",
    "\n",
    "km_predict_three([0.5, 0.5])"
   ]
  },
  {
   "cell_type": "code",
   "execution_count": 18,
   "metadata": {},
   "outputs": [
    {
     "data": {
      "text/plain": [
       "[]"
      ]
     },
     "execution_count": 18,
     "metadata": {},
     "output_type": "execute_result"
    }
   ],
   "source": [
    "module_frontier(km_predict_three)"
   ]
  },
  {
   "cell_type": "markdown",
   "metadata": {},
   "source": [
    "In this case, we can see that Python compiles these nested functions in essentially the same way it compiles the bodies of list comprehensions:"
   ]
  },
  {
   "cell_type": "code",
   "execution_count": 19,
   "metadata": {},
   "outputs": [
    {
     "name": "stdout",
     "output_type": "stream",
     "text": [
      "0: LOAD_CONST(<code object find_best at 0x10dcf7390, file \"<ipython-input-17-e19a1ac37885>\", line 5>)\n",
      "2: LOAD_CONST('km_predict_three.<locals>.find_best')\n",
      "4: MAKE_FUNCTION()\n",
      "6: STORE_FAST(find_best)\n",
      "8: LOAD_FAST(find_best)\n",
      "10: LOAD_FAST(sample)\n",
      "12: CALL_FUNCTION()\n",
      "14: RETURN_VALUE()\n"
     ]
    }
   ],
   "source": [
    "from dis import Bytecode\n",
    "for inst in Bytecode(km_predict_three):\n",
    "    print(\"%d: %s(%s)\" % (inst.offset, inst.opname, inst.argrepr))"
   ]
  },
  {
   "cell_type": "markdown",
   "metadata": {},
   "source": [
    "But we can inspect the nested function just as we did the list comprehension.  Let's do that but just look at the load instructions; we'll see that we've loaded `sys` and `norm` as we'd expect."
   ]
  },
  {
   "cell_type": "code",
   "execution_count": 20,
   "metadata": {},
   "outputs": [
    {
     "name": "stdout",
     "output_type": "stream",
     "text": [
      "0: LOAD_GLOBAL(sys)\n",
      "2: LOAD_ATTR(float_info)\n",
      "4: LOAD_ATTR(max)\n",
      "6: LOAD_CONST(-1)\n",
      "16: LOAD_GLOBAL(enumerate)\n",
      "18: LOAD_GLOBAL(centers)\n",
      "32: LOAD_GLOBAL(min)\n",
      "34: LOAD_FAST(n)\n",
      "36: LOAD_FAST(i)\n",
      "40: LOAD_GLOBAL(norm)\n",
      "42: LOAD_FAST(sample)\n",
      "44: LOAD_FAST(center)\n",
      "50: LOAD_FAST(idx)\n",
      "66: LOAD_FAST(i)\n"
     ]
    }
   ],
   "source": [
    "from dis import Bytecode\n",
    "for inst in [op for op in Bytecode(km_predict_three.__code__.co_consts[1]) if \"LOAD_\" in op.opname]:\n",
    "    print(\"%d: %s(%s)\" % (inst.offset, inst.opname, inst.argrepr))"
   ]
  },
  {
   "cell_type": "markdown",
   "metadata": {},
   "source": [
    "Predictably, we can also see a similar problem if we analyze a function with lambda expressions:"
   ]
  },
  {
   "cell_type": "code",
   "execution_count": 21,
   "metadata": {},
   "outputs": [
    {
     "data": {
      "text/plain": [
       "0"
      ]
     },
     "execution_count": 21,
     "metadata": {},
     "output_type": "execute_result"
    }
   ],
   "source": [
    "def km_predict_four(sample):\n",
    "    _, idx = min(map(lambda tup: (norm(sample - tup[1]), tup[0]), enumerate(centers)))\n",
    "    return idx\n",
    "\n",
    "km_predict_four([0.5, 0.5])"
   ]
  },
  {
   "cell_type": "code",
   "execution_count": 22,
   "metadata": {},
   "outputs": [
    {
     "data": {
      "text/plain": [
       "[]"
      ]
     },
     "execution_count": 22,
     "metadata": {},
     "output_type": "execute_result"
    }
   ],
   "source": [
    "module_frontier(km_predict_four)"
   ]
  },
  {
   "cell_type": "markdown",
   "metadata": {},
   "source": [
    "## Explicit imports\n",
    "\n",
    "Let's look at what happens when we import modules inside the function we're analyzing.  Because of the semantics of `import` in Python, the module dependency list for this function will depend on whether or not we've already imported `numpy` and `sys` in the global namespace.  If we have, we'll get a reasonable module list; if we haven't, we'll get an empty module list.  (If you're running this code in a notebook, you can try it out by restarting the kernel, re-executing the cell with the definition of `module_frontier`, and then executing this cell.)"
   ]
  },
  {
   "cell_type": "code",
   "execution_count": 100,
   "metadata": {},
   "outputs": [
    {
     "data": {
      "text/plain": [
       "['builtins',\n",
       " 'sys',\n",
       " 'numpy.core._methods',\n",
       " 'numpy.core.umath',\n",
       " 'numpy.core.multiarray',\n",
       " 'numpy.linalg.linalg',\n",
       " 'numpy.core.numerictypes',\n",
       " 'numpy.lib.type_check',\n",
       " 'numpy.linalg._umath_linalg',\n",
       " 'numpy',\n",
       " 'numpy.core.numeric',\n",
       " 'numpy.core.fromnumeric']"
      ]
     },
     "execution_count": 100,
     "metadata": {},
     "output_type": "execute_result"
    }
   ],
   "source": [
    "def km_predict_five(sample):\n",
    "    import numpy\n",
    "    import sys\n",
    "    from numpy.linalg import norm\n",
    "    from sys.float_info import max as MAX_FLOAT\n",
    "    \n",
    "    (n, i) = (MAX_FLOAT, -1)\n",
    "    for idx, center in enumerate(centers):\n",
    "        (n, i) = min((n, i), (norm(sample - center), idx))\n",
    "    return i\n",
    "\n",
    "module_frontier(km_predict_five)"
   ]
  },
  {
   "cell_type": "code",
   "execution_count": 111,
   "metadata": {},
   "outputs": [
    {
     "name": "stdout",
     "output_type": "stream",
     "text": [
      "0: LOAD_CONST(0)\n",
      "2: LOAD_CONST(None)\n",
      "4: IMPORT_NAME('numpy')\n",
      "6: STORE_FAST('numpy')\n",
      "8: LOAD_CONST(0)\n",
      "10: LOAD_CONST(None)\n",
      "12: IMPORT_NAME('sys')\n",
      "14: STORE_FAST('sys')\n",
      "16: LOAD_CONST(0)\n",
      "18: LOAD_CONST(('norm',))\n",
      "20: IMPORT_NAME('numpy.linalg')\n",
      "22: IMPORT_FROM('norm')\n",
      "24: STORE_FAST('norm')\n",
      "26: POP_TOP(None)\n",
      "28: LOAD_CONST(0)\n",
      "30: LOAD_CONST(('max',))\n",
      "32: IMPORT_NAME('sys.float_info')\n",
      "34: IMPORT_FROM('max')\n",
      "36: STORE_FAST('MAX_FLOAT')\n",
      "38: POP_TOP(None)\n",
      "40: LOAD_FAST('MAX_FLOAT')\n",
      "42: LOAD_CONST(-1)\n",
      "44: ROT_TWO(None)\n",
      "46: STORE_FAST('n')\n",
      "48: STORE_FAST('i')\n",
      "50: SETUP_LOOP(102)\n",
      "52: LOAD_GLOBAL('enumerate')\n",
      "54: LOAD_GLOBAL('centers')\n",
      "56: CALL_FUNCTION(1)\n",
      "58: GET_ITER(None)\n",
      "60: FOR_ITER(100)\n",
      "62: UNPACK_SEQUENCE(2)\n",
      "64: STORE_FAST('idx')\n",
      "66: STORE_FAST('center')\n",
      "68: LOAD_GLOBAL('min')\n",
      "70: LOAD_FAST('n')\n",
      "72: LOAD_FAST('i')\n",
      "74: BUILD_TUPLE(2)\n",
      "76: LOAD_FAST('norm')\n",
      "78: LOAD_FAST('sample')\n",
      "80: LOAD_FAST('center')\n",
      "82: BINARY_SUBTRACT(None)\n",
      "84: CALL_FUNCTION(1)\n",
      "86: LOAD_FAST('idx')\n",
      "88: BUILD_TUPLE(2)\n",
      "90: CALL_FUNCTION(2)\n",
      "92: UNPACK_SEQUENCE(2)\n",
      "94: STORE_FAST('n')\n",
      "96: STORE_FAST('i')\n",
      "98: JUMP_ABSOLUTE(60)\n",
      "100: POP_BLOCK(None)\n",
      "102: LOAD_FAST('i')\n",
      "104: RETURN_VALUE(None)\n"
     ]
    }
   ],
   "source": [
    "from dis import Bytecode\n",
    "for inst in Bytecode(km_predict_five):\n",
    "    print(\"%d: %s(%r)\" % (inst.offset, inst.opname, inst.argval))"
   ]
  },
  {
   "cell_type": "markdown",
   "metadata": {},
   "source": [
    "We can see this more clearly by importing a module in a function's scope that we haven't imported into the global namespace:"
   ]
  },
  {
   "cell_type": "code",
   "execution_count": 24,
   "metadata": {},
   "outputs": [
    {
     "data": {
      "text/plain": [
       "[]"
      ]
     },
     "execution_count": 24,
     "metadata": {},
     "output_type": "execute_result"
    }
   ],
   "source": [
    "def example_six():\n",
    "    import json\n",
    "    return json.loads(\"{'this-sure-is': 'confusing'}\")\n",
    "\n",
    "module_frontier(example_six)"
   ]
  },
  {
   "cell_type": "code",
   "execution_count": 25,
   "metadata": {},
   "outputs": [
    {
     "data": {
      "text/plain": [
       "ClosureVars(nonlocals={}, globals={}, builtins={}, unbound={'loads', 'json'})"
      ]
     },
     "execution_count": 25,
     "metadata": {},
     "output_type": "execute_result"
    }
   ],
   "source": [
    "inspect.getclosurevars(example_six)"
   ]
  },
  {
   "cell_type": "markdown",
   "metadata": {},
   "source": [
    "`json` is an unbound variable (since it isn't bound in the enclosing environment of the closure).  If it were bound in the global namespace, however, the `json` we're referring to in `example_six` would be captured as a global variable:"
   ]
  },
  {
   "cell_type": "code",
   "execution_count": 26,
   "metadata": {},
   "outputs": [
    {
     "data": {
      "text/plain": [
       "['json']"
      ]
     },
     "execution_count": 26,
     "metadata": {},
     "output_type": "execute_result"
    }
   ],
   "source": [
    "import json\n",
    "\n",
    "module_frontier(example_six)"
   ]
  },
  {
   "cell_type": "code",
   "execution_count": 27,
   "metadata": {},
   "outputs": [
    {
     "data": {
      "text/plain": [
       "ClosureVars(nonlocals={}, globals={'json': <module 'json' from '/Users/willb/anaconda/lib/python3.6/json/__init__.py'>}, builtins={}, unbound={'loads'})"
      ]
     },
     "execution_count": 27,
     "metadata": {},
     "output_type": "execute_result"
    }
   ],
   "source": [
    "inspect.getclosurevars(example_six)"
   ]
  },
  {
   "cell_type": "markdown",
   "metadata": {},
   "source": [
    "Obviously, we'd like to return the same module-dependency results for functions that import modules locally independently of whether those modules have been imported into the global namespace.  We can look at the bytecode for this function to see what instructions might be relevant:"
   ]
  },
  {
   "cell_type": "code",
   "execution_count": 28,
   "metadata": {},
   "outputs": [
    {
     "name": "stdout",
     "output_type": "stream",
     "text": [
      "0: LOAD_CONST(0)\n",
      "2: LOAD_CONST(None)\n",
      "4: IMPORT_NAME('json')\n",
      "6: STORE_FAST('json')\n",
      "8: LOAD_FAST('json')\n",
      "10: LOAD_ATTR('loads')\n",
      "12: LOAD_CONST(\"{'this-sure-is': 'confusing'}\")\n",
      "14: CALL_FUNCTION(1)\n",
      "16: RETURN_VALUE(None)\n"
     ]
    }
   ],
   "source": [
    "from dis import Bytecode\n",
    "for inst in Bytecode(example_six):\n",
    "    print(\"%d: %s(%r)\" % (inst.offset, inst.opname, inst.argval))"
   ]
  },
  {
   "cell_type": "markdown",
   "metadata": {},
   "source": [
    "# Solving problems\n",
    "\n",
    "To address the cases that the closure-inspecting approach misses, we can inspect the bytecode of each function. (We could also inspect abstract syntax trees, using the [`ast`](https://docs.python.org/3.6/library/ast.html) module, but in general it's easier to do this sort of work with a lower-level, more regular representation.  ASTs have more special cases.)\n",
    "\n",
    "Python bytecode is stack-based, meaning that each instruction may take one or more arguments from the stack (in addition to explicit arguments encoded in the instruction).  For a more involved analysis, we'd probably want to convert Python bytecode to a representation with explicit operands (like three-address code; see [section 2 of Vallée-Rai et al.](https://pdfs.semanticscholar.org/22df/3c0d055b7f65871068dfcd83d10f0a4fe2e4.pdf) for a reasonable approach), but let's see how far we can get by just operating on bytecode.\n",
    "\n",
    "## Identifying interesting bytecodes\n",
    "\n",
    "We know from the problem cases we examined earlier that we need to worry about a few different kinds of bytecode instructions to find some of the modules that our `inspect`-based approach missed:\n",
    "\n",
    "- `LOAD_CONST` instructions that load code objects (e.g., list comprehension bodies, lambda expressions, or nested functions);\n",
    "- other `LOAD_` instructions that might do the same; and\n",
    "- `IMPORT_NAME` instructions that import a module into a function's namespace.\n",
    "\n",
    "Let's extend our technique to also inspect relevant bytecodes.  We'll see how far we can get by just looking at bytecodes in isolation (without modeling the stack or value flow)."
   ]
  },
  {
   "cell_type": "code",
   "execution_count": 128,
   "metadata": {
    "collapsed": true
   },
   "outputs": [],
   "source": [
    "def interesting(inst):\n",
    "    from types import CodeType, FunctionType, ModuleType\n",
    "    from importlib import import_module\n",
    "    from functools import reduce\n",
    "    \n",
    "    if inst.opname == \"IMPORT_NAME\":\n",
    "        # XXX\n",
    "        path = inst.argval.split(\".\")\n",
    "        path[0] = import_module(path[0])\n",
    "        \n",
    "        return (\"module\", reduce(lambda x, a: getattr(x, a), path))\n",
    "    if inst.opname == \"LOAD_GLOBAL\":\n",
    "        if inst.argval in globals() and type(globals()[inst.argval]) in [CodeType, FunctionType]:\n",
    "            return (\"code\", globals()[inst.argval])\n",
    "        if inst.argval in globals() and type(globals()[inst.argval]) == ModuleType:\n",
    "            return (\"module\", globals()[inst.argval])\n",
    "        else:\n",
    "            return None\n",
    "    if \"LOAD_\" in inst.opname and type(inst.argval) in [CodeType, FunctionType]:\n",
    "        return (\"code\", inst.argval)\n",
    "    return None\n",
    "\n",
    "def mf_revised(f):\n",
    "  worklist = [f]\n",
    "  seen = set()\n",
    "  mods = set()\n",
    "  for fn in worklist:\n",
    "    codeworklist = [fn]\n",
    "    cvs = inspect.getclosurevars(fn)\n",
    "    gvars = cvs.globals\n",
    "    for k, v in gvars.items():\n",
    "        if inspect.ismodule(v):\n",
    "            mods.add(v.__name__)\n",
    "        elif inspect.isfunction(v) and id(v) not in seen:\n",
    "            seen.add(id(v))\n",
    "            mods.add(v.__module__)\n",
    "            worklist.append(v)\n",
    "        elif hasattr(v, \"__module__\"):\n",
    "            mods.add(v.__module__)\n",
    "    for block in codeworklist:\n",
    "        for (k, v) in [interesting(inst) for inst in Bytecode(block) if interesting(inst)]:\n",
    "            if k == \"module\":\n",
    "                mods.add(v.__name__)\n",
    "            elif k == \"code\" and id(v) not in seen:\n",
    "                seen.add(id(v))\n",
    "                if hasattr(v, \"__module__\"):\n",
    "                    mods.add(v.__module__)\n",
    "            if(inspect.isfunction(v)):\n",
    "                worklist.append(v)\n",
    "            elif(inspect.iscode(v)):\n",
    "                codeworklist.append(v)\n",
    "    \n",
    "  return list(mods)"
   ]
  },
  {
   "cell_type": "code",
   "execution_count": 129,
   "metadata": {},
   "outputs": [
    {
     "data": {
      "text/plain": [
       "['numpy', 'sklearn.cluster.k_means_']"
      ]
     },
     "execution_count": 129,
     "metadata": {},
     "output_type": "execute_result"
    }
   ],
   "source": [
    "mf_revised(km_predict_one)"
   ]
  },
  {
   "cell_type": "code",
   "execution_count": 130,
   "metadata": {},
   "outputs": [
    {
     "data": {
      "text/plain": [
       "['builtins',\n",
       " 'numpy.core._methods',\n",
       " 'numpy.core.umath',\n",
       " 'numpy.core.multiarray',\n",
       " 'numpy.linalg.linalg',\n",
       " 'numpy.core.numerictypes',\n",
       " 'numpy.lib.type_check',\n",
       " 'numpy.linalg._umath_linalg',\n",
       " 'numpy',\n",
       " 'numpy.core.numeric',\n",
       " 'numpy.core.fromnumeric']"
      ]
     },
     "execution_count": 130,
     "metadata": {},
     "output_type": "execute_result"
    }
   ],
   "source": [
    "mf_revised(km_predict_two)"
   ]
  },
  {
   "cell_type": "code",
   "execution_count": 131,
   "metadata": {},
   "outputs": [
    {
     "data": {
      "text/plain": [
       "['builtins',\n",
       " 'sys',\n",
       " 'numpy.core._methods',\n",
       " 'numpy.core.umath',\n",
       " 'numpy.core.multiarray',\n",
       " 'numpy.linalg.linalg',\n",
       " 'numpy.core.numerictypes',\n",
       " 'numpy.lib.type_check',\n",
       " 'numpy.linalg._umath_linalg',\n",
       " 'numpy',\n",
       " 'numpy.core.numeric',\n",
       " 'numpy.core.fromnumeric']"
      ]
     },
     "execution_count": 131,
     "metadata": {},
     "output_type": "execute_result"
    }
   ],
   "source": [
    "mf_revised(km_predict_three)"
   ]
  },
  {
   "cell_type": "code",
   "execution_count": 132,
   "metadata": {},
   "outputs": [
    {
     "data": {
      "text/plain": [
       "['builtins',\n",
       " 'numpy.core._methods',\n",
       " 'numpy.core.umath',\n",
       " 'numpy.core.multiarray',\n",
       " 'numpy.linalg.linalg',\n",
       " 'numpy.core.numerictypes',\n",
       " 'numpy.lib.type_check',\n",
       " 'numpy.linalg._umath_linalg',\n",
       " 'numpy',\n",
       " 'numpy.core.numeric',\n",
       " 'numpy.core.fromnumeric']"
      ]
     },
     "execution_count": 132,
     "metadata": {},
     "output_type": "execute_result"
    }
   ],
   "source": [
    "mf_revised(km_predict_four)"
   ]
  },
  {
   "cell_type": "code",
   "execution_count": 133,
   "metadata": {},
   "outputs": [
    {
     "ename": "AttributeError",
     "evalue": "'sys.float_info' object has no attribute '__name__'",
     "output_type": "error",
     "traceback": [
      "\u001b[0;31m---------------------------------------------------------------------------\u001b[0m",
      "\u001b[0;31mAttributeError\u001b[0m                            Traceback (most recent call last)",
      "\u001b[0;32m<ipython-input-133-f6c787a6ec3b>\u001b[0m in \u001b[0;36m<module>\u001b[0;34m()\u001b[0m\n\u001b[0;32m----> 1\u001b[0;31m \u001b[0mmf_revised\u001b[0m\u001b[0;34m(\u001b[0m\u001b[0mkm_predict_five\u001b[0m\u001b[0;34m)\u001b[0m\u001b[0;34m\u001b[0m\u001b[0m\n\u001b[0m",
      "\u001b[0;32m<ipython-input-128-731dddd2cd56>\u001b[0m in \u001b[0;36mmf_revised\u001b[0;34m(f)\u001b[0m\n\u001b[1;32m     40\u001b[0m         \u001b[0;32mfor\u001b[0m \u001b[0;34m(\u001b[0m\u001b[0mk\u001b[0m\u001b[0;34m,\u001b[0m \u001b[0mv\u001b[0m\u001b[0;34m)\u001b[0m \u001b[0;32min\u001b[0m \u001b[0;34m[\u001b[0m\u001b[0minteresting\u001b[0m\u001b[0;34m(\u001b[0m\u001b[0minst\u001b[0m\u001b[0;34m)\u001b[0m \u001b[0;32mfor\u001b[0m \u001b[0minst\u001b[0m \u001b[0;32min\u001b[0m \u001b[0mBytecode\u001b[0m\u001b[0;34m(\u001b[0m\u001b[0mblock\u001b[0m\u001b[0;34m)\u001b[0m \u001b[0;32mif\u001b[0m \u001b[0minteresting\u001b[0m\u001b[0;34m(\u001b[0m\u001b[0minst\u001b[0m\u001b[0;34m)\u001b[0m\u001b[0;34m]\u001b[0m\u001b[0;34m:\u001b[0m\u001b[0;34m\u001b[0m\u001b[0m\n\u001b[1;32m     41\u001b[0m             \u001b[0;32mif\u001b[0m \u001b[0mk\u001b[0m \u001b[0;34m==\u001b[0m \u001b[0;34m\"module\"\u001b[0m\u001b[0;34m:\u001b[0m\u001b[0;34m\u001b[0m\u001b[0m\n\u001b[0;32m---> 42\u001b[0;31m                 \u001b[0mmods\u001b[0m\u001b[0;34m.\u001b[0m\u001b[0madd\u001b[0m\u001b[0;34m(\u001b[0m\u001b[0mv\u001b[0m\u001b[0;34m.\u001b[0m\u001b[0m__name__\u001b[0m\u001b[0;34m)\u001b[0m\u001b[0;34m\u001b[0m\u001b[0m\n\u001b[0m\u001b[1;32m     43\u001b[0m             \u001b[0;32melif\u001b[0m \u001b[0mk\u001b[0m \u001b[0;34m==\u001b[0m \u001b[0;34m\"code\"\u001b[0m \u001b[0;32mand\u001b[0m \u001b[0mid\u001b[0m\u001b[0;34m(\u001b[0m\u001b[0mv\u001b[0m\u001b[0;34m)\u001b[0m \u001b[0;32mnot\u001b[0m \u001b[0;32min\u001b[0m \u001b[0mseen\u001b[0m\u001b[0;34m:\u001b[0m\u001b[0;34m\u001b[0m\u001b[0m\n\u001b[1;32m     44\u001b[0m                 \u001b[0mseen\u001b[0m\u001b[0;34m.\u001b[0m\u001b[0madd\u001b[0m\u001b[0;34m(\u001b[0m\u001b[0mid\u001b[0m\u001b[0;34m(\u001b[0m\u001b[0mv\u001b[0m\u001b[0;34m)\u001b[0m\u001b[0;34m)\u001b[0m\u001b[0;34m\u001b[0m\u001b[0m\n",
      "\u001b[0;31mAttributeError\u001b[0m: 'sys.float_info' object has no attribute '__name__'"
     ]
    }
   ],
   "source": [
    "mf_revised(km_predict_five)"
   ]
  },
  {
   "cell_type": "code",
   "execution_count": 70,
   "metadata": {},
   "outputs": [
    {
     "data": {
      "text/plain": [
       "type"
      ]
     },
     "execution_count": 70,
     "metadata": {},
     "output_type": "execute_result"
    }
   ],
   "source": [
    "type(getattr(__builtins__, \"enumerate\")).__class__"
   ]
  },
  {
   "cell_type": "code",
   "execution_count": 42,
   "metadata": {},
   "outputs": [
    {
     "data": {
      "text/plain": [
       "{'Bytecode': dis.Bytecode,\n",
       " 'In': ['',\n",
       "  'import inspect\\n\\ndef module_frontier(f):\\n  worklist = [f]\\n  seen = set()\\n  mods = set()\\n  for fn in worklist:\\n    cvs = inspect.getclosurevars(fn)\\n    gvars = cvs.globals\\n    for k, v in gvars.items():\\n      if inspect.ismodule(v):\\n        mods.add(v.__name__)\\n      elif inspect.isfunction(v) and id(v) not in seen:\\n        seen.add(id(v))\\n        mods.add(v.__module__)\\n        worklist.append(v)\\n      elif hasattr(v, \"__module__\"):\\n        mods.add(v.__module__)\\n  return list(mods)',\n",
       "  'import numpy as np\\nfrom numpy import dot\\n\\ndef f(a, b):\\n    return np.dot(a, b)\\n\\ndef g(a, b):\\n    return dot(a, b)\\n\\ndef h(a, b):\\n    return f(a, b)',\n",
       "  '{k.__name__ : module_frontier(k) for k in [f,g,h]}',\n",
       "  'module_frontier(module_frontier)',\n",
       "  'from sklearn.cluster import KMeans\\nimport numpy as np\\n\\ndata = np.random.rand(1000, 2)\\n\\nmodel = KMeans(random_state=0).fit(data)\\n\\ndef km_predict_one(sample):\\n    sample = np.array(sample).reshape(1,-1)\\n    return model.predict(sample)[0]',\n",
       "  'km_predict_one([0.5, 0.5])',\n",
       "  'module_frontier(km_predict_one)',\n",
       "  'centers = model.cluster_centers_\\nfrom numpy.linalg import norm\\n\\ndef km_predict_two(sample):\\n    _, idx = min([(norm(sample - center), idx) for idx, center in enumerate(centers)])\\n    return idx',\n",
       "  'km_predict_two([0.5, 0.5])',\n",
       "  'module_frontier(km_predict_two)',\n",
       "  'inspect.getclosurevars(km_predict_two)',\n",
       "  'from dis import Bytecode\\nfor inst in Bytecode(km_predict_two):\\n    print(\"%d: %s(%s)\" % (inst.offset, inst.opname, inst.argrepr))',\n",
       "  'km_predict_two.__code__.co_consts',\n",
       "  'for inst in Bytecode(km_predict_two.__code__.co_consts[1]):\\n    print(\"%d: %s(%s)\" % (inst.offset, inst.opname, inst.argrepr))',\n",
       "  'km_predict_two.__globals__[\"norm\"]',\n",
       "  '_.__module__',\n",
       "  'import sys\\n\\ndef km_predict_three(sample):\\n    # unnecessary nested function\\n    def find_best(sample):\\n        (n, i) = (sys.float_info.max, -1)\\n        for idx, center in enumerate(centers):\\n            (n, i) = min((n, i), (norm(sample - center), idx))\\n        return i\\n    return find_best(sample)\\n\\nkm_predict_three([0.5, 0.5])',\n",
       "  'module_frontier(km_predict_three)',\n",
       "  'from dis import Bytecode\\nfor inst in Bytecode(km_predict_three):\\n    print(\"%d: %s(%s)\" % (inst.offset, inst.opname, inst.argrepr))',\n",
       "  'from dis import Bytecode\\nfor inst in [op for op in Bytecode(km_predict_three.__code__.co_consts[1]) if \"LOAD_\" in op.opname]:\\n    print(\"%d: %s(%s)\" % (inst.offset, inst.opname, inst.argrepr))',\n",
       "  'def km_predict_four(sample):\\n    _, idx = min(map(lambda tup: (norm(sample - tup[1]), tup[0]), enumerate(centers)))\\n    return idx\\n\\nkm_predict_four([0.5, 0.5])',\n",
       "  'module_frontier(km_predict_four)',\n",
       "  'def km_predict_five(sample):\\n    import numpy\\n    import sys\\n    from numpy.linalg import norm\\n    from sys.float_info import max as MAX_FLOAT\\n    \\n    (n, i) = (MAX_FLOAT, -1)\\n    for idx, center in enumerate(centers):\\n        (n, i) = min((n, i), (norm(sample - center), idx))\\n    return i\\n\\nmodule_frontier(km_predict_five)',\n",
       "  'def example_six():\\n    import json\\n    return json.loads(\"{\\'this-sure-is\\': \\'confusing\\'}\")\\n\\nmodule_frontier(example_six)',\n",
       "  'inspect.getclosurevars(example_six)',\n",
       "  'import json\\n\\nmodule_frontier(example_six)',\n",
       "  'inspect.getclosurevars(example_six)',\n",
       "  'from dis import Bytecode\\nfor inst in Bytecode(example_six):\\n    print(\"%d: %s(%r)\" % (inst.offset, inst.opname, inst.argval))',\n",
       "  'from dis import Bytecode\\nfor inst in Bytecode(km_predict_two):\\n    print(\"%d: %s(%s)\" % (inst.offset, inst.opname, inst.argrepr))',\n",
       "  'getattr(__builtins__, \"enumerate\").__module__',\n",
       "  'type(km_predict_two.__code__.co_consts[1])',\n",
       "  'import types',\n",
       "  'types.CodeType == type(km_predict_two.__code__.co_consts[1])',\n",
       "  'import inspect\\n\\ndef module_frontier(f):\\n  worklist = [f]\\n  seen = set()\\n  mods = set()\\n  for fn in worklist:\\n    cvs = inspect.getclosurevars(fn)\\n    gvars = cvs.globals\\n    for k, v in gvars.items():\\n      if inspect.ismodule(v):\\n        mods.add(v.__name__)\\n      elif inspect.isfunction(v) and id(v) not in seen:\\n        seen.add(id(v))\\n        mods.add(v.__module__)\\n        worklist.append(v)\\n      elif hasattr(v, \"__module__\"):\\n        mods.add(v.__module__)\\n  return list(mods)',\n",
       "  'sklearn.__file__',\n",
       "  'import sklearn\\nsklearn.__file__',\n",
       "  'from dis import Bytecode\\nfor inst in Bytecode(km_predict_one):\\n    print(\"%d: %s(%s)\" % (inst.offset, inst.opname, inst.argrepr))',\n",
       "  'example_six.__globals__',\n",
       "  \"example_six.__globals__['sys']\",\n",
       "  'import sklearn\\n__globals__\\nsklearn.__file__',\n",
       "  'dir()',\n",
       "  'globals()'],\n",
       " 'KMeans': sklearn.cluster.k_means_.KMeans,\n",
       " 'Out': {3: {'f': ['numpy', 'numpy.core.multiarray'],\n",
       "   'g': ['numpy.core.multiarray'],\n",
       "   'h': ['__main__', 'numpy', 'numpy.core.multiarray']},\n",
       "  4: ['inspect'],\n",
       "  6: 0,\n",
       "  7: ['numpy', 'sklearn.cluster.k_means_'],\n",
       "  9: 0,\n",
       "  10: [],\n",
       "  11: ClosureVars(nonlocals={}, globals={'centers': array([[ 0.48164613,  0.76963627],\n",
       "       [ 0.19929899,  0.5320582 ],\n",
       "       [ 0.7851443 ,  0.49048373],\n",
       "       [ 0.1589274 ,  0.87394225],\n",
       "       [ 0.14252367,  0.18109538],\n",
       "       [ 0.83165127,  0.83706918],\n",
       "       [ 0.82584485,  0.16641708],\n",
       "       [ 0.47398427,  0.175393  ]])}, builtins={'min': <built-in function min>, 'enumerate': <class 'enumerate'>}, unbound=set()),\n",
       "  13: (None,\n",
       "   <code object <listcomp> at 0x10dcecd20, file \"<ipython-input-8-5a350184a257>\", line 5>,\n",
       "   'km_predict_two.<locals>.<listcomp>'),\n",
       "  15: <function numpy.linalg.linalg.norm>,\n",
       "  16: 'numpy.linalg.linalg',\n",
       "  17: 0,\n",
       "  18: [],\n",
       "  21: 0,\n",
       "  22: [],\n",
       "  23: ['builtins',\n",
       "   'sys',\n",
       "   'numpy.core._methods',\n",
       "   'numpy.core.umath',\n",
       "   'numpy.core.multiarray',\n",
       "   'numpy.linalg.linalg',\n",
       "   'numpy.core.numerictypes',\n",
       "   'numpy.lib.type_check',\n",
       "   'numpy.linalg._umath_linalg',\n",
       "   'numpy',\n",
       "   'numpy.core.numeric',\n",
       "   'numpy.core.fromnumeric'],\n",
       "  24: [],\n",
       "  25: ClosureVars(nonlocals={}, globals={}, builtins={}, unbound={'loads', 'json'}),\n",
       "  26: ['json'],\n",
       "  27: ClosureVars(nonlocals={}, globals={'json': <module 'json' from '/Users/willb/anaconda/lib/python3.6/json/__init__.py'>}, builtins={}, unbound={'loads'}),\n",
       "  30: 'builtins',\n",
       "  31: code,\n",
       "  33: True,\n",
       "  36: '/Users/willb/anaconda/lib/python3.6/site-packages/sklearn/__init__.py',\n",
       "  38: {...},\n",
       "  39: <module 'sys' (built-in)>,\n",
       "  41: ['Bytecode',\n",
       "   'In',\n",
       "   'KMeans',\n",
       "   'Out',\n",
       "   '_',\n",
       "   '_10',\n",
       "   '_11',\n",
       "   '_13',\n",
       "   '_15',\n",
       "   '_16',\n",
       "   '_17',\n",
       "   '_18',\n",
       "   '_21',\n",
       "   '_22',\n",
       "   '_23',\n",
       "   '_24',\n",
       "   '_25',\n",
       "   '_26',\n",
       "   '_27',\n",
       "   '_3',\n",
       "   '_30',\n",
       "   '_31',\n",
       "   '_33',\n",
       "   '_36',\n",
       "   '_38',\n",
       "   '_39',\n",
       "   '_4',\n",
       "   '_6',\n",
       "   '_7',\n",
       "   '_9',\n",
       "   '__',\n",
       "   '___',\n",
       "   '__builtin__',\n",
       "   '__builtins__',\n",
       "   '__doc__',\n",
       "   '__loader__',\n",
       "   '__name__',\n",
       "   '__package__',\n",
       "   '__spec__',\n",
       "   '_dh',\n",
       "   '_i',\n",
       "   '_i1',\n",
       "   '_i10',\n",
       "   '_i11',\n",
       "   '_i12',\n",
       "   '_i13',\n",
       "   '_i14',\n",
       "   '_i15',\n",
       "   '_i16',\n",
       "   '_i17',\n",
       "   '_i18',\n",
       "   '_i19',\n",
       "   '_i2',\n",
       "   '_i20',\n",
       "   '_i21',\n",
       "   '_i22',\n",
       "   '_i23',\n",
       "   '_i24',\n",
       "   '_i25',\n",
       "   '_i26',\n",
       "   '_i27',\n",
       "   '_i28',\n",
       "   '_i29',\n",
       "   '_i3',\n",
       "   '_i30',\n",
       "   '_i31',\n",
       "   '_i32',\n",
       "   '_i33',\n",
       "   '_i34',\n",
       "   '_i35',\n",
       "   '_i36',\n",
       "   '_i37',\n",
       "   '_i38',\n",
       "   '_i39',\n",
       "   '_i4',\n",
       "   '_i40',\n",
       "   '_i41',\n",
       "   '_i5',\n",
       "   '_i6',\n",
       "   '_i7',\n",
       "   '_i8',\n",
       "   '_i9',\n",
       "   '_ih',\n",
       "   '_ii',\n",
       "   '_iii',\n",
       "   '_oh',\n",
       "   '_sh',\n",
       "   'centers',\n",
       "   'data',\n",
       "   'dot',\n",
       "   'example_six',\n",
       "   'exit',\n",
       "   'f',\n",
       "   'g',\n",
       "   'get_ipython',\n",
       "   'h',\n",
       "   'inspect',\n",
       "   'inst',\n",
       "   'json',\n",
       "   'km_predict_five',\n",
       "   'km_predict_four',\n",
       "   'km_predict_one',\n",
       "   'km_predict_three',\n",
       "   'km_predict_two',\n",
       "   'model',\n",
       "   'module_frontier',\n",
       "   'norm',\n",
       "   'np',\n",
       "   'quit',\n",
       "   'sklearn',\n",
       "   'sys',\n",
       "   'types']},\n",
       " '_': ['Bytecode',\n",
       "  'In',\n",
       "  'KMeans',\n",
       "  'Out',\n",
       "  '_',\n",
       "  '_10',\n",
       "  '_11',\n",
       "  '_13',\n",
       "  '_15',\n",
       "  '_16',\n",
       "  '_17',\n",
       "  '_18',\n",
       "  '_21',\n",
       "  '_22',\n",
       "  '_23',\n",
       "  '_24',\n",
       "  '_25',\n",
       "  '_26',\n",
       "  '_27',\n",
       "  '_3',\n",
       "  '_30',\n",
       "  '_31',\n",
       "  '_33',\n",
       "  '_36',\n",
       "  '_38',\n",
       "  '_39',\n",
       "  '_4',\n",
       "  '_6',\n",
       "  '_7',\n",
       "  '_9',\n",
       "  '__',\n",
       "  '___',\n",
       "  '__builtin__',\n",
       "  '__builtins__',\n",
       "  '__doc__',\n",
       "  '__loader__',\n",
       "  '__name__',\n",
       "  '__package__',\n",
       "  '__spec__',\n",
       "  '_dh',\n",
       "  '_i',\n",
       "  '_i1',\n",
       "  '_i10',\n",
       "  '_i11',\n",
       "  '_i12',\n",
       "  '_i13',\n",
       "  '_i14',\n",
       "  '_i15',\n",
       "  '_i16',\n",
       "  '_i17',\n",
       "  '_i18',\n",
       "  '_i19',\n",
       "  '_i2',\n",
       "  '_i20',\n",
       "  '_i21',\n",
       "  '_i22',\n",
       "  '_i23',\n",
       "  '_i24',\n",
       "  '_i25',\n",
       "  '_i26',\n",
       "  '_i27',\n",
       "  '_i28',\n",
       "  '_i29',\n",
       "  '_i3',\n",
       "  '_i30',\n",
       "  '_i31',\n",
       "  '_i32',\n",
       "  '_i33',\n",
       "  '_i34',\n",
       "  '_i35',\n",
       "  '_i36',\n",
       "  '_i37',\n",
       "  '_i38',\n",
       "  '_i39',\n",
       "  '_i4',\n",
       "  '_i40',\n",
       "  '_i41',\n",
       "  '_i5',\n",
       "  '_i6',\n",
       "  '_i7',\n",
       "  '_i8',\n",
       "  '_i9',\n",
       "  '_ih',\n",
       "  '_ii',\n",
       "  '_iii',\n",
       "  '_oh',\n",
       "  '_sh',\n",
       "  'centers',\n",
       "  'data',\n",
       "  'dot',\n",
       "  'example_six',\n",
       "  'exit',\n",
       "  'f',\n",
       "  'g',\n",
       "  'get_ipython',\n",
       "  'h',\n",
       "  'inspect',\n",
       "  'inst',\n",
       "  'json',\n",
       "  'km_predict_five',\n",
       "  'km_predict_four',\n",
       "  'km_predict_one',\n",
       "  'km_predict_three',\n",
       "  'km_predict_two',\n",
       "  'model',\n",
       "  'module_frontier',\n",
       "  'norm',\n",
       "  'np',\n",
       "  'quit',\n",
       "  'sklearn',\n",
       "  'sys',\n",
       "  'types'],\n",
       " '_10': [],\n",
       " '_11': ClosureVars(nonlocals={}, globals={'centers': array([[ 0.48164613,  0.76963627],\n",
       "       [ 0.19929899,  0.5320582 ],\n",
       "       [ 0.7851443 ,  0.49048373],\n",
       "       [ 0.1589274 ,  0.87394225],\n",
       "       [ 0.14252367,  0.18109538],\n",
       "       [ 0.83165127,  0.83706918],\n",
       "       [ 0.82584485,  0.16641708],\n",
       "       [ 0.47398427,  0.175393  ]])}, builtins={'min': <built-in function min>, 'enumerate': <class 'enumerate'>}, unbound=set()),\n",
       " '_13': (None,\n",
       "  <code object <listcomp> at 0x10dcecd20, file \"<ipython-input-8-5a350184a257>\", line 5>,\n",
       "  'km_predict_two.<locals>.<listcomp>'),\n",
       " '_15': <function numpy.linalg.linalg.norm>,\n",
       " '_16': 'numpy.linalg.linalg',\n",
       " '_17': 0,\n",
       " '_18': [],\n",
       " '_21': 0,\n",
       " '_22': [],\n",
       " '_23': ['builtins',\n",
       "  'sys',\n",
       "  'numpy.core._methods',\n",
       "  'numpy.core.umath',\n",
       "  'numpy.core.multiarray',\n",
       "  'numpy.linalg.linalg',\n",
       "  'numpy.core.numerictypes',\n",
       "  'numpy.lib.type_check',\n",
       "  'numpy.linalg._umath_linalg',\n",
       "  'numpy',\n",
       "  'numpy.core.numeric',\n",
       "  'numpy.core.fromnumeric'],\n",
       " '_24': [],\n",
       " '_25': ClosureVars(nonlocals={}, globals={}, builtins={}, unbound={'loads', 'json'}),\n",
       " '_26': ['json'],\n",
       " '_27': ClosureVars(nonlocals={}, globals={'json': <module 'json' from '/Users/willb/anaconda/lib/python3.6/json/__init__.py'>}, builtins={}, unbound={'loads'}),\n",
       " '_3': {'f': ['numpy', 'numpy.core.multiarray'],\n",
       "  'g': ['numpy.core.multiarray'],\n",
       "  'h': ['__main__', 'numpy', 'numpy.core.multiarray']},\n",
       " '_30': 'builtins',\n",
       " '_31': code,\n",
       " '_33': True,\n",
       " '_36': '/Users/willb/anaconda/lib/python3.6/site-packages/sklearn/__init__.py',\n",
       " '_38': {...},\n",
       " '_39': <module 'sys' (built-in)>,\n",
       " '_4': ['inspect'],\n",
       " '_41': ['Bytecode',\n",
       "  'In',\n",
       "  'KMeans',\n",
       "  'Out',\n",
       "  '_',\n",
       "  '_10',\n",
       "  '_11',\n",
       "  '_13',\n",
       "  '_15',\n",
       "  '_16',\n",
       "  '_17',\n",
       "  '_18',\n",
       "  '_21',\n",
       "  '_22',\n",
       "  '_23',\n",
       "  '_24',\n",
       "  '_25',\n",
       "  '_26',\n",
       "  '_27',\n",
       "  '_3',\n",
       "  '_30',\n",
       "  '_31',\n",
       "  '_33',\n",
       "  '_36',\n",
       "  '_38',\n",
       "  '_39',\n",
       "  '_4',\n",
       "  '_6',\n",
       "  '_7',\n",
       "  '_9',\n",
       "  '__',\n",
       "  '___',\n",
       "  '__builtin__',\n",
       "  '__builtins__',\n",
       "  '__doc__',\n",
       "  '__loader__',\n",
       "  '__name__',\n",
       "  '__package__',\n",
       "  '__spec__',\n",
       "  '_dh',\n",
       "  '_i',\n",
       "  '_i1',\n",
       "  '_i10',\n",
       "  '_i11',\n",
       "  '_i12',\n",
       "  '_i13',\n",
       "  '_i14',\n",
       "  '_i15',\n",
       "  '_i16',\n",
       "  '_i17',\n",
       "  '_i18',\n",
       "  '_i19',\n",
       "  '_i2',\n",
       "  '_i20',\n",
       "  '_i21',\n",
       "  '_i22',\n",
       "  '_i23',\n",
       "  '_i24',\n",
       "  '_i25',\n",
       "  '_i26',\n",
       "  '_i27',\n",
       "  '_i28',\n",
       "  '_i29',\n",
       "  '_i3',\n",
       "  '_i30',\n",
       "  '_i31',\n",
       "  '_i32',\n",
       "  '_i33',\n",
       "  '_i34',\n",
       "  '_i35',\n",
       "  '_i36',\n",
       "  '_i37',\n",
       "  '_i38',\n",
       "  '_i39',\n",
       "  '_i4',\n",
       "  '_i40',\n",
       "  '_i41',\n",
       "  '_i5',\n",
       "  '_i6',\n",
       "  '_i7',\n",
       "  '_i8',\n",
       "  '_i9',\n",
       "  '_ih',\n",
       "  '_ii',\n",
       "  '_iii',\n",
       "  '_oh',\n",
       "  '_sh',\n",
       "  'centers',\n",
       "  'data',\n",
       "  'dot',\n",
       "  'example_six',\n",
       "  'exit',\n",
       "  'f',\n",
       "  'g',\n",
       "  'get_ipython',\n",
       "  'h',\n",
       "  'inspect',\n",
       "  'inst',\n",
       "  'json',\n",
       "  'km_predict_five',\n",
       "  'km_predict_four',\n",
       "  'km_predict_one',\n",
       "  'km_predict_three',\n",
       "  'km_predict_two',\n",
       "  'model',\n",
       "  'module_frontier',\n",
       "  'norm',\n",
       "  'np',\n",
       "  'quit',\n",
       "  'sklearn',\n",
       "  'sys',\n",
       "  'types'],\n",
       " '_6': 0,\n",
       " '_7': ['numpy', 'sklearn.cluster.k_means_'],\n",
       " '_9': 0,\n",
       " '__': <module 'sys' (built-in)>,\n",
       " '___': {...},\n",
       " '__builtin__': <module 'builtins' (built-in)>,\n",
       " '__builtins__': <module 'builtins' (built-in)>,\n",
       " '__doc__': 'Automatically created module for IPython interactive environment',\n",
       " '__loader__': None,\n",
       " '__name__': '__main__',\n",
       " '__package__': None,\n",
       " '__spec__': None,\n",
       " '_dh': ['/Users/willb/devel/notebooks'],\n",
       " '_i': 'dir()',\n",
       " '_i1': 'import inspect\\n\\ndef module_frontier(f):\\n  worklist = [f]\\n  seen = set()\\n  mods = set()\\n  for fn in worklist:\\n    cvs = inspect.getclosurevars(fn)\\n    gvars = cvs.globals\\n    for k, v in gvars.items():\\n      if inspect.ismodule(v):\\n        mods.add(v.__name__)\\n      elif inspect.isfunction(v) and id(v) not in seen:\\n        seen.add(id(v))\\n        mods.add(v.__module__)\\n        worklist.append(v)\\n      elif hasattr(v, \"__module__\"):\\n        mods.add(v.__module__)\\n  return list(mods)',\n",
       " '_i10': 'module_frontier(km_predict_two)',\n",
       " '_i11': 'inspect.getclosurevars(km_predict_two)',\n",
       " '_i12': 'from dis import Bytecode\\nfor inst in Bytecode(km_predict_two):\\n    print(\"%d: %s(%s)\" % (inst.offset, inst.opname, inst.argrepr))',\n",
       " '_i13': 'km_predict_two.__code__.co_consts',\n",
       " '_i14': 'for inst in Bytecode(km_predict_two.__code__.co_consts[1]):\\n    print(\"%d: %s(%s)\" % (inst.offset, inst.opname, inst.argrepr))',\n",
       " '_i15': 'km_predict_two.__globals__[\"norm\"]',\n",
       " '_i16': '_.__module__',\n",
       " '_i17': 'import sys\\n\\ndef km_predict_three(sample):\\n    # unnecessary nested function\\n    def find_best(sample):\\n        (n, i) = (sys.float_info.max, -1)\\n        for idx, center in enumerate(centers):\\n            (n, i) = min((n, i), (norm(sample - center), idx))\\n        return i\\n    return find_best(sample)\\n\\nkm_predict_three([0.5, 0.5])',\n",
       " '_i18': 'module_frontier(km_predict_three)',\n",
       " '_i19': 'from dis import Bytecode\\nfor inst in Bytecode(km_predict_three):\\n    print(\"%d: %s(%s)\" % (inst.offset, inst.opname, inst.argrepr))',\n",
       " '_i2': 'import numpy as np\\nfrom numpy import dot\\n\\ndef f(a, b):\\n    return np.dot(a, b)\\n\\ndef g(a, b):\\n    return dot(a, b)\\n\\ndef h(a, b):\\n    return f(a, b)',\n",
       " '_i20': 'from dis import Bytecode\\nfor inst in [op for op in Bytecode(km_predict_three.__code__.co_consts[1]) if \"LOAD_\" in op.opname]:\\n    print(\"%d: %s(%s)\" % (inst.offset, inst.opname, inst.argrepr))',\n",
       " '_i21': 'def km_predict_four(sample):\\n    _, idx = min(map(lambda tup: (norm(sample - tup[1]), tup[0]), enumerate(centers)))\\n    return idx\\n\\nkm_predict_four([0.5, 0.5])',\n",
       " '_i22': 'module_frontier(km_predict_four)',\n",
       " '_i23': 'def km_predict_five(sample):\\n    import numpy\\n    import sys\\n    from numpy.linalg import norm\\n    from sys.float_info import max as MAX_FLOAT\\n    \\n    (n, i) = (MAX_FLOAT, -1)\\n    for idx, center in enumerate(centers):\\n        (n, i) = min((n, i), (norm(sample - center), idx))\\n    return i\\n\\nmodule_frontier(km_predict_five)',\n",
       " '_i24': 'def example_six():\\n    import json\\n    return json.loads(\"{\\'this-sure-is\\': \\'confusing\\'}\")\\n\\nmodule_frontier(example_six)',\n",
       " '_i25': 'inspect.getclosurevars(example_six)',\n",
       " '_i26': 'import json\\n\\nmodule_frontier(example_six)',\n",
       " '_i27': 'inspect.getclosurevars(example_six)',\n",
       " '_i28': 'from dis import Bytecode\\nfor inst in Bytecode(example_six):\\n    print(\"%d: %s(%r)\" % (inst.offset, inst.opname, inst.argval))',\n",
       " '_i29': 'from dis import Bytecode\\nfor inst in Bytecode(km_predict_two):\\n    print(\"%d: %s(%s)\" % (inst.offset, inst.opname, inst.argrepr))',\n",
       " '_i3': '{k.__name__ : module_frontier(k) for k in [f,g,h]}',\n",
       " '_i30': 'getattr(__builtins__, \"enumerate\").__module__',\n",
       " '_i31': 'type(km_predict_two.__code__.co_consts[1])',\n",
       " '_i32': 'import types',\n",
       " '_i33': 'types.CodeType == type(km_predict_two.__code__.co_consts[1])',\n",
       " '_i34': 'import inspect\\n\\ndef module_frontier(f):\\n  worklist = [f]\\n  seen = set()\\n  mods = set()\\n  for fn in worklist:\\n    cvs = inspect.getclosurevars(fn)\\n    gvars = cvs.globals\\n    for k, v in gvars.items():\\n      if inspect.ismodule(v):\\n        mods.add(v.__name__)\\n      elif inspect.isfunction(v) and id(v) not in seen:\\n        seen.add(id(v))\\n        mods.add(v.__module__)\\n        worklist.append(v)\\n      elif hasattr(v, \"__module__\"):\\n        mods.add(v.__module__)\\n  return list(mods)',\n",
       " '_i35': 'sklearn.__file__',\n",
       " '_i36': 'import sklearn\\nsklearn.__file__',\n",
       " '_i37': 'from dis import Bytecode\\nfor inst in Bytecode(km_predict_one):\\n    print(\"%d: %s(%s)\" % (inst.offset, inst.opname, inst.argrepr))',\n",
       " '_i38': 'example_six.__globals__',\n",
       " '_i39': \"example_six.__globals__['sys']\",\n",
       " '_i4': 'module_frontier(module_frontier)',\n",
       " '_i40': 'import sklearn\\n__globals__\\nsklearn.__file__',\n",
       " '_i41': 'dir()',\n",
       " '_i42': 'globals()',\n",
       " '_i5': 'from sklearn.cluster import KMeans\\nimport numpy as np\\n\\ndata = np.random.rand(1000, 2)\\n\\nmodel = KMeans(random_state=0).fit(data)\\n\\ndef km_predict_one(sample):\\n    sample = np.array(sample).reshape(1,-1)\\n    return model.predict(sample)[0]',\n",
       " '_i6': 'km_predict_one([0.5, 0.5])',\n",
       " '_i7': 'module_frontier(km_predict_one)',\n",
       " '_i8': 'centers = model.cluster_centers_\\nfrom numpy.linalg import norm\\n\\ndef km_predict_two(sample):\\n    _, idx = min([(norm(sample - center), idx) for idx, center in enumerate(centers)])\\n    return idx',\n",
       " '_i9': 'km_predict_two([0.5, 0.5])',\n",
       " '_ih': ['',\n",
       "  'import inspect\\n\\ndef module_frontier(f):\\n  worklist = [f]\\n  seen = set()\\n  mods = set()\\n  for fn in worklist:\\n    cvs = inspect.getclosurevars(fn)\\n    gvars = cvs.globals\\n    for k, v in gvars.items():\\n      if inspect.ismodule(v):\\n        mods.add(v.__name__)\\n      elif inspect.isfunction(v) and id(v) not in seen:\\n        seen.add(id(v))\\n        mods.add(v.__module__)\\n        worklist.append(v)\\n      elif hasattr(v, \"__module__\"):\\n        mods.add(v.__module__)\\n  return list(mods)',\n",
       "  'import numpy as np\\nfrom numpy import dot\\n\\ndef f(a, b):\\n    return np.dot(a, b)\\n\\ndef g(a, b):\\n    return dot(a, b)\\n\\ndef h(a, b):\\n    return f(a, b)',\n",
       "  '{k.__name__ : module_frontier(k) for k in [f,g,h]}',\n",
       "  'module_frontier(module_frontier)',\n",
       "  'from sklearn.cluster import KMeans\\nimport numpy as np\\n\\ndata = np.random.rand(1000, 2)\\n\\nmodel = KMeans(random_state=0).fit(data)\\n\\ndef km_predict_one(sample):\\n    sample = np.array(sample).reshape(1,-1)\\n    return model.predict(sample)[0]',\n",
       "  'km_predict_one([0.5, 0.5])',\n",
       "  'module_frontier(km_predict_one)',\n",
       "  'centers = model.cluster_centers_\\nfrom numpy.linalg import norm\\n\\ndef km_predict_two(sample):\\n    _, idx = min([(norm(sample - center), idx) for idx, center in enumerate(centers)])\\n    return idx',\n",
       "  'km_predict_two([0.5, 0.5])',\n",
       "  'module_frontier(km_predict_two)',\n",
       "  'inspect.getclosurevars(km_predict_two)',\n",
       "  'from dis import Bytecode\\nfor inst in Bytecode(km_predict_two):\\n    print(\"%d: %s(%s)\" % (inst.offset, inst.opname, inst.argrepr))',\n",
       "  'km_predict_two.__code__.co_consts',\n",
       "  'for inst in Bytecode(km_predict_two.__code__.co_consts[1]):\\n    print(\"%d: %s(%s)\" % (inst.offset, inst.opname, inst.argrepr))',\n",
       "  'km_predict_two.__globals__[\"norm\"]',\n",
       "  '_.__module__',\n",
       "  'import sys\\n\\ndef km_predict_three(sample):\\n    # unnecessary nested function\\n    def find_best(sample):\\n        (n, i) = (sys.float_info.max, -1)\\n        for idx, center in enumerate(centers):\\n            (n, i) = min((n, i), (norm(sample - center), idx))\\n        return i\\n    return find_best(sample)\\n\\nkm_predict_three([0.5, 0.5])',\n",
       "  'module_frontier(km_predict_three)',\n",
       "  'from dis import Bytecode\\nfor inst in Bytecode(km_predict_three):\\n    print(\"%d: %s(%s)\" % (inst.offset, inst.opname, inst.argrepr))',\n",
       "  'from dis import Bytecode\\nfor inst in [op for op in Bytecode(km_predict_three.__code__.co_consts[1]) if \"LOAD_\" in op.opname]:\\n    print(\"%d: %s(%s)\" % (inst.offset, inst.opname, inst.argrepr))',\n",
       "  'def km_predict_four(sample):\\n    _, idx = min(map(lambda tup: (norm(sample - tup[1]), tup[0]), enumerate(centers)))\\n    return idx\\n\\nkm_predict_four([0.5, 0.5])',\n",
       "  'module_frontier(km_predict_four)',\n",
       "  'def km_predict_five(sample):\\n    import numpy\\n    import sys\\n    from numpy.linalg import norm\\n    from sys.float_info import max as MAX_FLOAT\\n    \\n    (n, i) = (MAX_FLOAT, -1)\\n    for idx, center in enumerate(centers):\\n        (n, i) = min((n, i), (norm(sample - center), idx))\\n    return i\\n\\nmodule_frontier(km_predict_five)',\n",
       "  'def example_six():\\n    import json\\n    return json.loads(\"{\\'this-sure-is\\': \\'confusing\\'}\")\\n\\nmodule_frontier(example_six)',\n",
       "  'inspect.getclosurevars(example_six)',\n",
       "  'import json\\n\\nmodule_frontier(example_six)',\n",
       "  'inspect.getclosurevars(example_six)',\n",
       "  'from dis import Bytecode\\nfor inst in Bytecode(example_six):\\n    print(\"%d: %s(%r)\" % (inst.offset, inst.opname, inst.argval))',\n",
       "  'from dis import Bytecode\\nfor inst in Bytecode(km_predict_two):\\n    print(\"%d: %s(%s)\" % (inst.offset, inst.opname, inst.argrepr))',\n",
       "  'getattr(__builtins__, \"enumerate\").__module__',\n",
       "  'type(km_predict_two.__code__.co_consts[1])',\n",
       "  'import types',\n",
       "  'types.CodeType == type(km_predict_two.__code__.co_consts[1])',\n",
       "  'import inspect\\n\\ndef module_frontier(f):\\n  worklist = [f]\\n  seen = set()\\n  mods = set()\\n  for fn in worklist:\\n    cvs = inspect.getclosurevars(fn)\\n    gvars = cvs.globals\\n    for k, v in gvars.items():\\n      if inspect.ismodule(v):\\n        mods.add(v.__name__)\\n      elif inspect.isfunction(v) and id(v) not in seen:\\n        seen.add(id(v))\\n        mods.add(v.__module__)\\n        worklist.append(v)\\n      elif hasattr(v, \"__module__\"):\\n        mods.add(v.__module__)\\n  return list(mods)',\n",
       "  'sklearn.__file__',\n",
       "  'import sklearn\\nsklearn.__file__',\n",
       "  'from dis import Bytecode\\nfor inst in Bytecode(km_predict_one):\\n    print(\"%d: %s(%s)\" % (inst.offset, inst.opname, inst.argrepr))',\n",
       "  'example_six.__globals__',\n",
       "  \"example_six.__globals__['sys']\",\n",
       "  'import sklearn\\n__globals__\\nsklearn.__file__',\n",
       "  'dir()',\n",
       "  'globals()'],\n",
       " '_ii': 'import sklearn\\n__globals__\\nsklearn.__file__',\n",
       " '_iii': \"example_six.__globals__['sys']\",\n",
       " '_oh': {3: {'f': ['numpy', 'numpy.core.multiarray'],\n",
       "   'g': ['numpy.core.multiarray'],\n",
       "   'h': ['__main__', 'numpy', 'numpy.core.multiarray']},\n",
       "  4: ['inspect'],\n",
       "  6: 0,\n",
       "  7: ['numpy', 'sklearn.cluster.k_means_'],\n",
       "  9: 0,\n",
       "  10: [],\n",
       "  11: ClosureVars(nonlocals={}, globals={'centers': array([[ 0.48164613,  0.76963627],\n",
       "       [ 0.19929899,  0.5320582 ],\n",
       "       [ 0.7851443 ,  0.49048373],\n",
       "       [ 0.1589274 ,  0.87394225],\n",
       "       [ 0.14252367,  0.18109538],\n",
       "       [ 0.83165127,  0.83706918],\n",
       "       [ 0.82584485,  0.16641708],\n",
       "       [ 0.47398427,  0.175393  ]])}, builtins={'min': <built-in function min>, 'enumerate': <class 'enumerate'>}, unbound=set()),\n",
       "  13: (None,\n",
       "   <code object <listcomp> at 0x10dcecd20, file \"<ipython-input-8-5a350184a257>\", line 5>,\n",
       "   'km_predict_two.<locals>.<listcomp>'),\n",
       "  15: <function numpy.linalg.linalg.norm>,\n",
       "  16: 'numpy.linalg.linalg',\n",
       "  17: 0,\n",
       "  18: [],\n",
       "  21: 0,\n",
       "  22: [],\n",
       "  23: ['builtins',\n",
       "   'sys',\n",
       "   'numpy.core._methods',\n",
       "   'numpy.core.umath',\n",
       "   'numpy.core.multiarray',\n",
       "   'numpy.linalg.linalg',\n",
       "   'numpy.core.numerictypes',\n",
       "   'numpy.lib.type_check',\n",
       "   'numpy.linalg._umath_linalg',\n",
       "   'numpy',\n",
       "   'numpy.core.numeric',\n",
       "   'numpy.core.fromnumeric'],\n",
       "  24: [],\n",
       "  25: ClosureVars(nonlocals={}, globals={}, builtins={}, unbound={'loads', 'json'}),\n",
       "  26: ['json'],\n",
       "  27: ClosureVars(nonlocals={}, globals={'json': <module 'json' from '/Users/willb/anaconda/lib/python3.6/json/__init__.py'>}, builtins={}, unbound={'loads'}),\n",
       "  30: 'builtins',\n",
       "  31: code,\n",
       "  33: True,\n",
       "  36: '/Users/willb/anaconda/lib/python3.6/site-packages/sklearn/__init__.py',\n",
       "  38: {...},\n",
       "  39: <module 'sys' (built-in)>,\n",
       "  41: ['Bytecode',\n",
       "   'In',\n",
       "   'KMeans',\n",
       "   'Out',\n",
       "   '_',\n",
       "   '_10',\n",
       "   '_11',\n",
       "   '_13',\n",
       "   '_15',\n",
       "   '_16',\n",
       "   '_17',\n",
       "   '_18',\n",
       "   '_21',\n",
       "   '_22',\n",
       "   '_23',\n",
       "   '_24',\n",
       "   '_25',\n",
       "   '_26',\n",
       "   '_27',\n",
       "   '_3',\n",
       "   '_30',\n",
       "   '_31',\n",
       "   '_33',\n",
       "   '_36',\n",
       "   '_38',\n",
       "   '_39',\n",
       "   '_4',\n",
       "   '_6',\n",
       "   '_7',\n",
       "   '_9',\n",
       "   '__',\n",
       "   '___',\n",
       "   '__builtin__',\n",
       "   '__builtins__',\n",
       "   '__doc__',\n",
       "   '__loader__',\n",
       "   '__name__',\n",
       "   '__package__',\n",
       "   '__spec__',\n",
       "   '_dh',\n",
       "   '_i',\n",
       "   '_i1',\n",
       "   '_i10',\n",
       "   '_i11',\n",
       "   '_i12',\n",
       "   '_i13',\n",
       "   '_i14',\n",
       "   '_i15',\n",
       "   '_i16',\n",
       "   '_i17',\n",
       "   '_i18',\n",
       "   '_i19',\n",
       "   '_i2',\n",
       "   '_i20',\n",
       "   '_i21',\n",
       "   '_i22',\n",
       "   '_i23',\n",
       "   '_i24',\n",
       "   '_i25',\n",
       "   '_i26',\n",
       "   '_i27',\n",
       "   '_i28',\n",
       "   '_i29',\n",
       "   '_i3',\n",
       "   '_i30',\n",
       "   '_i31',\n",
       "   '_i32',\n",
       "   '_i33',\n",
       "   '_i34',\n",
       "   '_i35',\n",
       "   '_i36',\n",
       "   '_i37',\n",
       "   '_i38',\n",
       "   '_i39',\n",
       "   '_i4',\n",
       "   '_i40',\n",
       "   '_i41',\n",
       "   '_i5',\n",
       "   '_i6',\n",
       "   '_i7',\n",
       "   '_i8',\n",
       "   '_i9',\n",
       "   '_ih',\n",
       "   '_ii',\n",
       "   '_iii',\n",
       "   '_oh',\n",
       "   '_sh',\n",
       "   'centers',\n",
       "   'data',\n",
       "   'dot',\n",
       "   'example_six',\n",
       "   'exit',\n",
       "   'f',\n",
       "   'g',\n",
       "   'get_ipython',\n",
       "   'h',\n",
       "   'inspect',\n",
       "   'inst',\n",
       "   'json',\n",
       "   'km_predict_five',\n",
       "   'km_predict_four',\n",
       "   'km_predict_one',\n",
       "   'km_predict_three',\n",
       "   'km_predict_two',\n",
       "   'model',\n",
       "   'module_frontier',\n",
       "   'norm',\n",
       "   'np',\n",
       "   'quit',\n",
       "   'sklearn',\n",
       "   'sys',\n",
       "   'types']},\n",
       " '_sh': <module 'IPython.core.shadowns' from '/Users/willb/anaconda/lib/python3.6/site-packages/IPython/core/shadowns.py'>,\n",
       " 'centers': array([[ 0.48164613,  0.76963627],\n",
       "        [ 0.19929899,  0.5320582 ],\n",
       "        [ 0.7851443 ,  0.49048373],\n",
       "        [ 0.1589274 ,  0.87394225],\n",
       "        [ 0.14252367,  0.18109538],\n",
       "        [ 0.83165127,  0.83706918],\n",
       "        [ 0.82584485,  0.16641708],\n",
       "        [ 0.47398427,  0.175393  ]]),\n",
       " 'data': array([[ 0.4040385 ,  0.40835458],\n",
       "        [ 0.45211825,  0.71357086],\n",
       "        [ 0.84707173,  0.60422951],\n",
       "        ..., \n",
       "        [ 0.65312381,  0.41886432],\n",
       "        [ 0.74026954,  0.18526605],\n",
       "        [ 0.7264172 ,  0.35681397]]),\n",
       " 'dot': <function numpy.core.multiarray.dot>,\n",
       " 'example_six': <function __main__.example_six>,\n",
       " 'exit': <IPython.core.autocall.ZMQExitAutocall at 0x10654a550>,\n",
       " 'f': <function __main__.f>,\n",
       " 'g': <function __main__.g>,\n",
       " 'get_ipython': <bound method InteractiveShell.get_ipython of <ipykernel.zmqshell.ZMQInteractiveShell object at 0x1064f54e0>>,\n",
       " 'h': <function __main__.h>,\n",
       " 'inspect': <module 'inspect' from '/Users/willb/anaconda/lib/python3.6/inspect.py'>,\n",
       " 'inst': Instruction(opname='RETURN_VALUE', opcode=83, arg=None, argval=None, argrepr='', offset=30, starts_line=None, is_jump_target=False),\n",
       " 'json': <module 'json' from '/Users/willb/anaconda/lib/python3.6/json/__init__.py'>,\n",
       " 'km_predict_five': <function __main__.km_predict_five>,\n",
       " 'km_predict_four': <function __main__.km_predict_four>,\n",
       " 'km_predict_one': <function __main__.km_predict_one>,\n",
       " 'km_predict_three': <function __main__.km_predict_three>,\n",
       " 'km_predict_two': <function __main__.km_predict_two>,\n",
       " 'model': KMeans(algorithm='auto', copy_x=True, init='k-means++', max_iter=300,\n",
       "     n_clusters=8, n_init=10, n_jobs=1, precompute_distances='auto',\n",
       "     random_state=0, tol=0.0001, verbose=0),\n",
       " 'module_frontier': <function __main__.module_frontier>,\n",
       " 'norm': <function numpy.linalg.linalg.norm>,\n",
       " 'np': <module 'numpy' from '/Users/willb/anaconda/lib/python3.6/site-packages/numpy/__init__.py'>,\n",
       " 'quit': <IPython.core.autocall.ZMQExitAutocall at 0x10654a550>,\n",
       " 'sklearn': <module 'sklearn' from '/Users/willb/anaconda/lib/python3.6/site-packages/sklearn/__init__.py'>,\n",
       " 'sys': <module 'sys' (built-in)>,\n",
       " 'types': <module 'types' from '/Users/willb/anaconda/lib/python3.6/types.py'>}"
      ]
     },
     "execution_count": 42,
     "metadata": {},
     "output_type": "execute_result"
    }
   ],
   "source": [
    "globals()"
   ]
  },
  {
   "cell_type": "code",
   "execution_count": 37,
   "metadata": {},
   "outputs": [
    {
     "name": "stdout",
     "output_type": "stream",
     "text": [
      "0: LOAD_GLOBAL(np)\n",
      "2: LOAD_ATTR(array)\n",
      "4: LOAD_FAST(sample)\n",
      "6: CALL_FUNCTION()\n",
      "8: LOAD_ATTR(reshape)\n",
      "10: LOAD_CONST(1)\n",
      "12: LOAD_CONST(-1)\n",
      "14: CALL_FUNCTION()\n",
      "16: STORE_FAST(sample)\n",
      "18: LOAD_GLOBAL(model)\n",
      "20: LOAD_ATTR(predict)\n",
      "22: LOAD_FAST(sample)\n",
      "24: CALL_FUNCTION()\n",
      "26: LOAD_CONST(0)\n",
      "28: BINARY_SUBSCR()\n",
      "30: RETURN_VALUE()\n"
     ]
    }
   ],
   "source": [
    "from dis import Bytecode\n",
    "for inst in Bytecode(km_predict_one):\n",
    "    print(\"%d: %s(%s)\" % (inst.offset, inst.opname, inst.argrepr))"
   ]
  },
  {
   "cell_type": "code",
   "execution_count": 30,
   "metadata": {},
   "outputs": [
    {
     "data": {
      "text/plain": [
       "'builtins'"
      ]
     },
     "execution_count": 30,
     "metadata": {},
     "output_type": "execute_result"
    }
   ],
   "source": [
    "getattr(__builtins__, \"enumerate\").__module__"
   ]
  },
  {
   "cell_type": "code",
   "execution_count": 31,
   "metadata": {},
   "outputs": [
    {
     "data": {
      "text/plain": [
       "code"
      ]
     },
     "execution_count": 31,
     "metadata": {},
     "output_type": "execute_result"
    }
   ],
   "source": [
    "type(km_predict_two.__code__.co_consts[1])"
   ]
  },
  {
   "cell_type": "code",
   "execution_count": 32,
   "metadata": {},
   "outputs": [],
   "source": [
    "import types"
   ]
  },
  {
   "cell_type": "code",
   "execution_count": 33,
   "metadata": {},
   "outputs": [
    {
     "data": {
      "text/plain": [
       "True"
      ]
     },
     "execution_count": 33,
     "metadata": {},
     "output_type": "execute_result"
    }
   ],
   "source": [
    "types.CodeType == type(km_predict_two.__code__.co_consts[1])"
   ]
  },
  {
   "cell_type": "code",
   "execution_count": 34,
   "metadata": {
    "collapsed": true
   },
   "outputs": [],
   "source": [
    "import inspect\n",
    "\n",
    "def module_frontier(f):\n",
    "  worklist = [f]\n",
    "  seen = set()\n",
    "  mods = set()\n",
    "  for fn in worklist:\n",
    "    cvs = inspect.getclosurevars(fn)\n",
    "    gvars = cvs.globals\n",
    "    for k, v in gvars.items():\n",
    "      if inspect.ismodule(v):\n",
    "        mods.add(v.__name__)\n",
    "      elif inspect.isfunction(v) and id(v) not in seen:\n",
    "        seen.add(id(v))\n",
    "        mods.add(v.__module__)\n",
    "        worklist.append(v)\n",
    "      elif hasattr(v, \"__module__\"):\n",
    "        mods.add(v.__module__)\n",
    "  return list(mods)"
   ]
  },
  {
   "cell_type": "markdown",
   "metadata": {},
   "source": [
    "This is ongoing work and future notebooks will cover refinements to this technique.  It has been fun to learn about the power (and limitations) of the `inspect` module -- as well as a little more about how Python compiles code blocks."
   ]
  }
 ],
 "metadata": {
  "kernelspec": {
   "display_name": "Python 3",
   "language": "python",
   "name": "python3"
  },
  "language_info": {
   "codemirror_mode": {
    "name": "ipython",
    "version": 3
   },
   "file_extension": ".py",
   "mimetype": "text/x-python",
   "name": "python",
   "nbconvert_exporter": "python",
   "pygments_lexer": "ipython3",
   "version": "3.6.0"
  }
 },
 "nbformat": 4,
 "nbformat_minor": 2
}
